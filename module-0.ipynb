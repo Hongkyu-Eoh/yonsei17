{
 "cells": [
  {
   "cell_type": "markdown",
   "metadata": {
    "collapsed": true
   },
   "source": [
    "# Energy Materials: Design, Discovery and Data\n",
    "\n",
    "## 0. Jupyter Notebook Basics \n",
    "\n",
    "#### Adapted from Ben Morgan's Tutorial: https://github.com/bjmorgan/jupyter_cc_1"
   ]
  },
  {
   "cell_type": "markdown",
   "metadata": {},
   "source": [
    "### What is a Jupyter Notebook?\n",
    "\n",
    "This is a Jupyter notebook. Each document is like a physical notebook. It can be used for describing an experiment, recording data, and commenting on it. Unlike a physical notebook, a Jupyter notebook also allows you to run and easily share computer code. This combination makes Jupyter notebooks a useful tool for analysing data collected from experiments. Unlike spreadsheets or combinations of separate data analysis codes, a Jupyter notebook allows you to collect desciptions and notes for individual experiments, links to the raw data collected, the computer code that performs any necessary data analysis, and the final figures generated with these data, ready for use in a report or published paper."
   ]
  },
  {
   "cell_type": "markdown",
   "metadata": {},
   "source": [
    "### Why analyse data using code?\n",
    "\n",
    "Computer code allows you to analyse data programmatically. All the steps are carried out according to a program; a predefined series of instructions; like a recipe for a particular meal. Once a program has been written, it will always produce the same results with the same starting data. This makes it possible to “show your working”. Scientists presenting new results can share their original data, alongside the code that they used for all their analysis. This has a number of benefits. Other scientists can review the code, run it against the original data set, and check that any analysis has been done correctly."
   ]
  },
  {
   "cell_type": "markdown",
   "metadata": {},
   "source": [
    "### Getting started with Jupyter Notebook\n",
    "\n",
    "Each notebook consists of **cells** that contain text. These cells are arranged vertically, top-to-bottom in the document. Any cell can be edited by clicking on it. A cell in **edit mode** is indicated by a green border. \n",
    "\n",
    "<img style=\"width:700px\" src='images/target_cell.png' />\n",
    "\n",
    "A cell with a blue border is in **command mode**. To edit a cell in command mode, press enter or double click on the cell.\n",
    "\n",
    "<img style=\"width:700px\" src='images/command_mode_cell.png' />\n",
    "\n",
    "Commands for editing notebooks can be accessed from the manu at the top of the screen, and commonly used commands have keyboard shortcuts, which will be highlighted in examples using <span style=\"color:green\">green text</span>. The full list of keyboard shortcuts can be found through Help > Keyboard Shortcuts in the menu."
   ]
  },
  {
   "cell_type": "markdown",
   "metadata": {},
   "source": [
    "### Running code (Python)\n",
    "\n",
    "A large number of different computer languages can be used in Jupyter notebooks. We will be using Python (specifically Python 3). Python is increasingly used across a large number of scientific disciplines for data management and analysis. The large scientific community means that very good resources already exist for data processing and specific prewritten tools for manipulating and plotting data.\n",
    "\n",
    "If you open a new notebook it will have one empty cell. And you can always create more cells by clicking in the menu on Insert > Insert Cell Above (<span style=\"color:green\">a</span>) or Insert > Insert Cell Below (<span style=\"color:green\">b</span>).  \n",
    "\n",
    "<img style=\"width:550px\" src='images/insert_cell.png'/>\n",
    "\n",
    "Any code typed into a code cell can be run (or \"**executed**\") by pressing `Shift-Enter` or pressing the <img style='display:inline; height:1.5em; vertical-align: bottom;' src='images/run_code_button.png'/> button in the notebook toolbar."
   ]
  },
  {
   "cell_type": "code",
   "execution_count": null,
   "metadata": {
    "collapsed": false
   },
   "outputs": [],
   "source": [
    "2+3 # run this cell"
   ]
  },
  {
   "cell_type": "code",
   "execution_count": null,
   "metadata": {
    "collapsed": false
   },
   "outputs": [],
   "source": [
    "print(\"hello 친구\") # anything after '#' is a comment and ignored "
   ]
  },
  {
   "cell_type": "code",
   "execution_count": null,
   "metadata": {
    "collapsed": false
   },
   "outputs": [],
   "source": [
    "12*2.40*3737*12 # you get the idea"
   ]
  },
  {
   "cell_type": "code",
   "execution_count": null,
   "metadata": {
    "collapsed": false
   },
   "outputs": [],
   "source": [
    "2**1000 - 2 # a big number"
   ]
  },
  {
   "cell_type": "code",
   "execution_count": null,
   "metadata": {
    "collapsed": false
   },
   "outputs": [],
   "source": [
    "import math as m # import a math module\n",
    "m.pi    "
   ]
  },
  {
   "cell_type": "code",
   "execution_count": null,
   "metadata": {
    "collapsed": false
   },
   "outputs": [],
   "source": [
    "20*m.atan(1/7)+8.m.atan(3/79) # Euler's approximation "
   ]
  },
  {
   "cell_type": "markdown",
   "metadata": {},
   "source": [
    "### Plotting (using Matplotlib)"
   ]
  },
  {
   "cell_type": "code",
   "execution_count": null,
   "metadata": {
    "collapsed": false
   },
   "outputs": [],
   "source": [
    "import matplotlib.pyplot as plt\n",
    "import numpy as np\n",
    "%matplotlib inline\n",
    "\n",
    "x = np.arange(0, 10, 1) # x = 0 to 10 in steps of 0.1\n",
    "y = np.sin(x*x) # define your function\n",
    "plt.plot(x,y) # plot x against y"
   ]
  },
  {
   "cell_type": "markdown",
   "metadata": {},
   "source": [
    "### Write an equation (LaTeX format)"
   ]
  },
  {
   "cell_type": "markdown",
   "metadata": {},
   "source": [
    "$-\\dfrac{\\hslash^2}{2m} \\, \\dfrac{\\partial^2 \\psi}{\\partial x^2}$ "
   ]
  },
  {
   "cell_type": "markdown",
   "metadata": {},
   "source": [
    "### Link an image (Markdown format)"
   ]
  },
  {
   "cell_type": "markdown",
   "metadata": {},
   "source": [
    "![](http://people.bath.ac.uk/aw558/temp/comof_phonon.gif)"
   ]
  },
  {
   "cell_type": "code",
   "execution_count": null,
   "metadata": {
    "collapsed": true
   },
   "outputs": [],
   "source": []
  }
 ],
 "metadata": {
  "kernelspec": {
   "display_name": "Python 3",
   "language": "python",
   "name": "python3"
  },
  "language_info": {
   "codemirror_mode": {
    "name": "ipython",
    "version": 3
   },
   "file_extension": ".py",
   "mimetype": "text/x-python",
   "name": "python",
   "nbconvert_exporter": "python",
   "pygments_lexer": "ipython3",
   "version": "3.5.2"
  }
 },
 "nbformat": 4,
 "nbformat_minor": 0
}
